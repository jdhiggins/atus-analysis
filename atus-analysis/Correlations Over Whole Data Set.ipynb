{
 "cells": [
  {
   "cell_type": "code",
   "execution_count": 2,
   "metadata": {
    "collapsed": true
   },
   "outputs": [],
   "source": [
    "import pandas as pd\n",
    "import re"
   ]
  },
  {
   "cell_type": "code",
   "execution_count": 3,
   "metadata": {
    "collapsed": true
   },
   "outputs": [],
   "source": [
    "import matplotlib.pyplot as plt"
   ]
  },
  {
   "cell_type": "code",
   "execution_count": 4,
   "metadata": {
    "collapsed": true
   },
   "outputs": [],
   "source": [
    "%matplotlib inline"
   ]
  },
  {
   "cell_type": "code",
   "execution_count": 5,
   "metadata": {
    "collapsed": false
   },
   "outputs": [],
   "source": [
    "summary = pd.read_csv(\"atusdata/atussum_2013.dat\")"
   ]
  },
  {
   "cell_type": "code",
   "execution_count": 6,
   "metadata": {
    "collapsed": true
   },
   "outputs": [],
   "source": [
    "summary.index = summary.pop('tucaseid')"
   ]
  },
  {
   "cell_type": "code",
   "execution_count": 7,
   "metadata": {
    "collapsed": false
   },
   "outputs": [],
   "source": [
    "sum_for_corr = summary.iloc[:,23:]"
   ]
  },
  {
   "cell_type": "code",
   "execution_count": 8,
   "metadata": {
    "collapsed": false
   },
   "outputs": [],
   "source": [
    "correlation = sum_for_corr.corr()"
   ]
  },
  {
   "cell_type": "code",
   "execution_count": 9,
   "metadata": {
    "collapsed": false
   },
   "outputs": [
    {
     "data": {
      "text/html": [
       "<div style=\"max-height:1000px;max-width:1500px;overflow:auto;\">\n",
       "<table border=\"1\" class=\"dataframe\">\n",
       "  <thead>\n",
       "    <tr style=\"text-align: right;\">\n",
       "      <th></th>\n",
       "      <th>t010101</th>\n",
       "      <th>t010102</th>\n",
       "      <th>t010201</th>\n",
       "      <th>t010299</th>\n",
       "      <th>t010301</th>\n",
       "      <th>t010399</th>\n",
       "      <th>t010401</th>\n",
       "      <th>t020101</th>\n",
       "      <th>t020102</th>\n",
       "      <th>t020103</th>\n",
       "      <th>...</th>\n",
       "      <th>t181501</th>\n",
       "      <th>t181599</th>\n",
       "      <th>t181601</th>\n",
       "      <th>t181801</th>\n",
       "      <th>t189999</th>\n",
       "      <th>t500101</th>\n",
       "      <th>t500103</th>\n",
       "      <th>t500105</th>\n",
       "      <th>t500106</th>\n",
       "      <th>t500107</th>\n",
       "    </tr>\n",
       "  </thead>\n",
       "  <tbody>\n",
       "    <tr>\n",
       "      <th>t050101</th>\n",
       "      <td>-0.327168</td>\n",
       "      <td>-0.035355</td>\n",
       "      <td>0.086831</td>\n",
       "      <td>-0.013370</td>\n",
       "      <td>-0.060978</td>\n",
       "      <td>-0.009438</td>\n",
       "      <td>-0.002603</td>\n",
       "      <td>-0.166599</td>\n",
       "      <td>-0.124327</td>\n",
       "      <td>-0.031572</td>\n",
       "      <td>...</td>\n",
       "      <td>-0.033463</td>\n",
       "      <td>-0.013944</td>\n",
       "      <td>-0.005013</td>\n",
       "      <td>-0.003160</td>\n",
       "      <td>-0.036294</td>\n",
       "      <td>-0.063656</td>\n",
       "      <td>-0.022931</td>\n",
       "      <td>0.014938</td>\n",
       "      <td>-0.073687</td>\n",
       "      <td>-0.006906</td>\n",
       "    </tr>\n",
       "    <tr>\n",
       "      <th>t180501</th>\n",
       "      <td>-0.211294</td>\n",
       "      <td>-0.023816</td>\n",
       "      <td>0.081406</td>\n",
       "      <td>-0.009189</td>\n",
       "      <td>-0.039556</td>\n",
       "      <td>-0.005544</td>\n",
       "      <td>-0.002473</td>\n",
       "      <td>-0.111787</td>\n",
       "      <td>-0.091055</td>\n",
       "      <td>-0.023232</td>\n",
       "      <td>...</td>\n",
       "      <td>-0.028695</td>\n",
       "      <td>-0.012421</td>\n",
       "      <td>-0.007777</td>\n",
       "      <td>-0.005946</td>\n",
       "      <td>-0.024705</td>\n",
       "      <td>-0.044668</td>\n",
       "      <td>-0.012360</td>\n",
       "      <td>0.017318</td>\n",
       "      <td>-0.047626</td>\n",
       "      <td>-0.002202</td>\n",
       "    </tr>\n",
       "  </tbody>\n",
       "</table>\n",
       "<p>2 rows × 389 columns</p>\n",
       "</div>"
      ],
      "text/plain": [
       "          t010101   t010102   t010201   t010299   t010301   t010399   t010401  \\\n",
       "t050101 -0.327168 -0.035355  0.086831 -0.013370 -0.060978 -0.009438 -0.002603   \n",
       "t180501 -0.211294 -0.023816  0.081406 -0.009189 -0.039556 -0.005544 -0.002473   \n",
       "\n",
       "          t020101   t020102   t020103    ...      t181501   t181599   t181601  \\\n",
       "t050101 -0.166599 -0.124327 -0.031572    ...    -0.033463 -0.013944 -0.005013   \n",
       "t180501 -0.111787 -0.091055 -0.023232    ...    -0.028695 -0.012421 -0.007777   \n",
       "\n",
       "          t181801   t189999   t500101   t500103   t500105   t500106   t500107  \n",
       "t050101 -0.003160 -0.036294 -0.063656 -0.022931  0.014938 -0.073687 -0.006906  \n",
       "t180501 -0.005946 -0.024705 -0.044668 -0.012360  0.017318 -0.047626 -0.002202  \n",
       "\n",
       "[2 rows x 389 columns]"
      ]
     },
     "execution_count": 9,
     "metadata": {},
     "output_type": "execute_result"
    }
   ],
   "source": [
    "correlation[(correlation['t050101'] > (.1))]"
   ]
  },
  {
   "cell_type": "code",
   "execution_count": 10,
   "metadata": {
    "collapsed": false
   },
   "outputs": [],
   "source": [
    "corr_stack = correlation.stack()"
   ]
  },
  {
   "cell_type": "code",
   "execution_count": 11,
   "metadata": {
    "collapsed": false
   },
   "outputs": [
    {
     "data": {
      "text/plain": [
       "t010101  t010101    1.000000\n",
       "         t010102   -0.113135\n",
       "         t010201   -0.118443\n",
       "         t010299   -0.010672\n",
       "         t010301    0.001342\n",
       "dtype: float64"
      ]
     },
     "execution_count": 11,
     "metadata": {},
     "output_type": "execute_result"
    }
   ],
   "source": [
    "corr_stack.head()"
   ]
  },
  {
   "cell_type": "code",
   "execution_count": 12,
   "metadata": {
    "collapsed": true
   },
   "outputs": [],
   "source": [
    "import math"
   ]
  },
  {
   "cell_type": "code",
   "execution_count": null,
   "metadata": {
    "collapsed": true
   },
   "outputs": [],
   "source": []
  },
  {
   "cell_type": "code",
   "execution_count": null,
   "metadata": {
    "collapsed": true
   },
   "outputs": [],
   "source": []
  },
  {
   "cell_type": "code",
   "execution_count": 13,
   "metadata": {
    "collapsed": false
   },
   "outputs": [],
   "source": [
    "highly_correlated = corr_stack[(corr_stack.map(math.fabs) >= 0.5) & (corr_stack !=1)]"
   ]
  },
  {
   "cell_type": "code",
   "execution_count": 17,
   "metadata": {
    "collapsed": false
   },
   "outputs": [
    {
     "data": {
      "text/plain": [
       "t100304  t050103    0.769701\n",
       "         t181001    0.632186\n",
       "t109999  t181099    1.000000\n",
       "t120201  t181202    0.623004\n",
       "t129999  t181299    1.000000\n",
       "t130123  t130221    1.000000\n",
       "t130221  t130123    1.000000\n",
       "t140101  t181401    0.603554\n",
       "t149999  t181499    0.989102\n",
       "t180301  t030112    0.546303\n",
       "t180303  t030302    0.714350\n",
       "t180305  t030503    0.556492\n",
       "t180401  t040112    0.588002\n",
       "t180402  t040299    0.532946\n",
       "t180403  t040301    0.579215\n",
       "         t040302    0.654218\n",
       "t180405  t040507    0.579285\n",
       "t180501  t050101    0.610970\n",
       "t180503  t050303    0.532403\n",
       "t180599  t050199    0.968276\n",
       "t180601  t060101    0.603713\n",
       "t180602  t060202    0.649120\n",
       "t180701  t070101    0.651901\n",
       "t180702  t070102    0.545990\n",
       "t180704  t070104    0.578172\n",
       "t180803  t080301    0.839804\n",
       "t180804  t080401    0.540000\n",
       "t180805  t080501    0.729167\n",
       "t180807  t080701    0.831182\n",
       "t180899  t089999    0.786498\n",
       "t180901  t090103    0.826995\n",
       "t180905  t090501    0.515124\n",
       "t181001  t050103    0.617114\n",
       "         t100304    0.632186\n",
       "t181002  t100201    0.934582\n",
       "t181099  t109999    1.000000\n",
       "t181202  t120201    0.623004\n",
       "t181299  t129999    1.000000\n",
       "t181401  t140101    0.603554\n",
       "t181499  t149999    0.989102\n",
       "dtype: float64"
      ]
     },
     "execution_count": 17,
     "metadata": {},
     "output_type": "execute_result"
    }
   ],
   "source": [
    "highly_correlated[30:100]"
   ]
  },
  {
   "cell_type": "markdown",
   "metadata": {},
   "source": [
    "ideas: most popular sports by state  \n",
    "most popular spectator sports by state\n",
    "time spent on religion by state\n",
    "religion by age\n",
    "time spent waiting if the people are doing a certain activity\n",
    "diff between renting and owning house\n",
    "time spent waiting overall\n",
    "\n",
    "\n",
    "df[col]  == series of col\n",
    "df[[col1, col2]] == just those columns view\n",
    "df[n:m] == df view rows\n",
    "df.loc[:, [col1, col2, col2] copy of columns\n",
    "df.loc[label1 : label2] -- rows\n",
    "df.iloc[integerposition:integerposition]\n",
    "df.xs["
   ]
  }
 ],
 "metadata": {
  "kernelspec": {
   "display_name": "Python 3",
   "language": "python",
   "name": "python3"
  },
  "language_info": {
   "codemirror_mode": {
    "name": "ipython",
    "version": 3
   },
   "file_extension": ".py",
   "mimetype": "text/x-python",
   "name": "python",
   "nbconvert_exporter": "python",
   "pygments_lexer": "ipython3",
   "version": "3.4.3"
  }
 },
 "nbformat": 4,
 "nbformat_minor": 0
}
